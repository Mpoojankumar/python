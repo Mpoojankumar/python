{
  "nbformat": 4,
  "nbformat_minor": 0,
  "metadata": {
    "colab": {
      "provenance": [],
      "authorship_tag": "ABX9TyPveYQTOjQJKdq4RrIKKo1S",
      "include_colab_link": true
    },
    "kernelspec": {
      "name": "python3",
      "display_name": "Python 3"
    },
    "language_info": {
      "name": "python"
    }
  },
  "cells": [
    {
      "cell_type": "markdown",
      "metadata": {
        "id": "view-in-github",
        "colab_type": "text"
      },
      "source": [
        "<a href=\"https://colab.research.google.com/github/Mpoojankumar/python/blob/main/CRT_PYTHON_.ipynb\" target=\"_parent\"><img src=\"https://colab.research.google.com/assets/colab-badge.svg\" alt=\"Open In Colab\"/></a>"
      ]
    },
    {
      "cell_type": "code",
      "execution_count": 8,
      "metadata": {
        "colab": {
          "base_uri": "https://localhost:8080/"
        },
        "id": "5prEqWhFSJ1I",
        "outputId": "f1f174c4-4cea-492a-febe-d94ce36ed013"
      },
      "outputs": [
        {
          "output_type": "stream",
          "name": "stdout",
          "text": [
            "telugu kosam 1 nokkandi\n",
            "hindi keliye 2 dabai\n",
            "for english press 3\n",
            "enter a choice2\n",
            "hindi selected\n"
          ]
        }
      ],
      "source": [
        "print(\"telugu kosam 1 nokkandi\")\n",
        "print(\"hindi keliye 2 dabai\")\n",
        "print(\"for english press 3\")\n",
        "choice= int(input(\"enter a choice\"))\n",
        "if choice ==1:\n",
        "  print(\"telugu selected\")\n",
        "elif choice ==2:\n",
        "  print(\"hindi selected\")\n",
        "elif choice ==3:\n",
        "  print(\"english selected\")\n",
        "else:\n",
        "  print(\"invalid choice\") \n"
      ]
    },
    {
      "cell_type": "code",
      "source": [
        "num = 54\n",
        "print(\"Ye Even\") if num%2==0 else print(\"Wo Odd\")\n"
      ],
      "metadata": {
        "colab": {
          "base_uri": "https://localhost:8080/"
        },
        "id": "APO9EyHxT1kv",
        "outputId": "a38c703f-b779-4850-bec1-8bb9c970704b"
      },
      "execution_count": 9,
      "outputs": [
        {
          "output_type": "stream",
          "name": "stdout",
          "text": [
            "Ye Even\n"
          ]
        }
      ]
    },
    {
      "cell_type": "code",
      "source": [
        "num = int(input())\n",
        "bin(num).endswith(\"0\")\n"
      ],
      "metadata": {
        "colab": {
          "base_uri": "https://localhost:8080/"
        },
        "id": "qj1j8IoTUmFG",
        "outputId": "378e4340-27e3-4099-c882-4d280adf4105"
      },
      "execution_count": 12,
      "outputs": [
        {
          "name": "stdout",
          "output_type": "stream",
          "text": [
            "60\n"
          ]
        },
        {
          "output_type": "execute_result",
          "data": {
            "text/plain": [
              "True"
            ]
          },
          "metadata": {},
          "execution_count": 12
        }
      ]
    },
    {
      "cell_type": "code",
      "source": [],
      "metadata": {
        "id": "zpBQ9Pk_WTXO"
      },
      "execution_count": null,
      "outputs": []
    }
  ]
}