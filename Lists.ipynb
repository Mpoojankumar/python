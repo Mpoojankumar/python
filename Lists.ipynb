{
  "nbformat": 4,
  "nbformat_minor": 0,
  "metadata": {
    "colab": {
      "name": "Lists",
      "provenance": [],
      "authorship_tag": "ABX9TyPI6QyXKL596ePqCRa/NcES",
      "include_colab_link": true
    },
    "kernelspec": {
      "name": "python3",
      "display_name": "Python 3"
    },
    "language_info": {
      "name": "python"
    }
  },
  "cells": [
    {
      "cell_type": "markdown",
      "metadata": {
        "id": "view-in-github",
        "colab_type": "text"
      },
      "source": [
        "<a href=\"https://colab.research.google.com/github/Mpoojankumar/python/blob/main/Lists.ipynb\" target=\"_parent\"><img src=\"https://colab.research.google.com/assets/colab-badge.svg\" alt=\"Open In Colab\"/></a>"
      ]
    },
    {
      "cell_type": "code",
      "execution_count": 27,
      "metadata": {
        "colab": {
          "base_uri": "https://localhost:8080/"
        },
        "id": "W6HHSOg_TDZi",
        "outputId": "5f79b0be-2221-4ac0-ef46-6e6491213502"
      },
      "outputs": [
        {
          "output_type": "stream",
          "name": "stdout",
          "text": [
            "['Iphone', 'MacBook', 'Watch']\n",
            "<class 'list'>\n",
            "['Iphone', 'MacBook', 'Watch', 'AirPods']\n",
            "Watch\n",
            "['Iphone', 'MacBook', 'Watch']\n",
            "['MacBook', 'Watch']\n",
            "['MacBook']\n"
          ]
        }
      ],
      "source": [
        "#Inserting elements into list\n",
        "apple = [\"Iphone\",\"MacBook\",\"Watch\"]\n",
        "print(apple)\n",
        "print(type(apple))\n",
        "apple.append(\"AirPods\")\n",
        "print(apple)\n",
        "print(apple[2])\n",
        "apple.pop()\n",
        "print(apple)\n",
        "apple.remove(\"Iphone\")\n",
        "print(apple)\n",
        "del apple[1]\n",
        "print(apple)\n",
        "\n",
        "\n"
      ]
    },
    {
      "cell_type": "code",
      "source": [
        "apple = [\"Iphone\",\"MacBook\",\"Watch\"]\n",
        "print(apple[0:2])\n",
        "print(apple[0:1])\n",
        "print(apple[1:])\n",
        "apple.insert(0,\"AirTag\")\n",
        "print(apple)\n",
        "print(len(apple))\n",
        "apple.reverse()\n",
        "print(apple)"
      ],
      "metadata": {
        "colab": {
          "base_uri": "https://localhost:8080/"
        },
        "outputId": "f72de3d3-36bb-4259-ba50-be48dca62ae1",
        "id": "aUeSVQkhdPFX"
      },
      "execution_count": 37,
      "outputs": [
        {
          "output_type": "stream",
          "name": "stdout",
          "text": [
            "['Iphone', 'MacBook']\n",
            "['Iphone']\n",
            "['MacBook', 'Watch']\n",
            "['AirTag', 'Iphone', 'MacBook', 'Watch']\n",
            "4\n",
            "['Watch', 'MacBook', 'Iphone', 'AirTag']\n"
          ]
        }
      ]
    }
  ]
}