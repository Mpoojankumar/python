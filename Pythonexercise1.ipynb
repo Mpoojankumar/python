{
  "nbformat": 4,
  "nbformat_minor": 0,
  "metadata": {
    "colab": {
      "name": "Pythonexercise1.ipynb",
      "provenance": [],
      "authorship_tag": "ABX9TyP93BjDOlv0apYs0QjR1PMm",
      "include_colab_link": true
    },
    "kernelspec": {
      "name": "python3",
      "display_name": "Python 3"
    },
    "language_info": {
      "name": "python"
    }
  },
  "cells": [
    {
      "cell_type": "markdown",
      "metadata": {
        "id": "view-in-github",
        "colab_type": "text"
      },
      "source": [
        "<a href=\"https://colab.research.google.com/github/Mpoojankumar/python/blob/main/Pythonexercise1.ipynb\" target=\"_parent\"><img src=\"https://colab.research.google.com/assets/colab-badge.svg\" alt=\"Open In Colab\"/></a>"
      ]
    },
    {
      "cell_type": "code",
      "execution_count": null,
      "metadata": {
        "colab": {
          "base_uri": "https://localhost:8080/"
        },
        "id": "VhPxEmks-pPl",
        "outputId": "35cf19af-0c5b-42bd-b010-9877745d9bc6"
      },
      "outputs": [
        {
          "output_type": "stream",
          "name": "stdout",
          "text": [
            "Enter first number: 4.5\n",
            "Enter second number: 7.1\n",
            "The sum of 4.5 and 7.1 is 11.6\n"
          ]
        }
      ],
      "source": [
        "num1 = input('Enter first number: ')\n",
        "num2 = input('Enter second number: ')\n",
        "\n",
        "#Add two numbers\n",
        "sum = float(num1) + float(num2)\n",
        "\n",
        "print('The sum of {0} and {1} is {2}'.format(num1, num2, sum))"
      ]
    },
    {
      "cell_type": "code",
      "source": [
        "a = int(input(\"1st number : \" ))\n",
        "b = int(input(\"2nd number : \" ))\n",
        "c = int(input(\"3rd number : \" ))\n",
        "diff = a-b-c\n",
        "print(\"Difference of numbers =\", diff)"
      ],
      "metadata": {
        "colab": {
          "base_uri": "https://localhost:8080/"
        },
        "id": "2-eGtl4ZNF38",
        "outputId": "61dd90b9-25d7-4869-80c0-077b0f69c256"
      },
      "execution_count": 15,
      "outputs": [
        {
          "output_type": "stream",
          "name": "stdout",
          "text": [
            "1st number : 5\n",
            "2nd number : 5\n",
            "3rd number : 7\n",
            "Difference of numbers = -7\n"
          ]
        }
      ]
    },
    {
      "cell_type": "code",
      "source": [
        "#area of square\n",
        "s = int(input(\"Side =\"))\n",
        "area = s*s\n",
        "print(area)"
      ],
      "metadata": {
        "colab": {
          "base_uri": "https://localhost:8080/"
        },
        "id": "AB4QgEHwO2IT",
        "outputId": "e49be0f0-9a62-493d-f09f-430b4e28f089"
      },
      "execution_count": 19,
      "outputs": [
        {
          "output_type": "stream",
          "name": "stdout",
          "text": [
            "Side =5\n",
            "25\n"
          ]
        }
      ]
    },
    {
      "cell_type": "code",
      "source": [
        "#area of rectangle\n",
        "l = int(input(\"length =\"))\n",
        "b = int(input(\"breadth =\"))\n",
        "area = l*b\n",
        "\n"
      ],
      "metadata": {
        "colab": {
          "base_uri": "https://localhost:8080/"
        },
        "id": "Vt3M2ULrO2Ms",
        "outputId": "cda3d0a9-84b0-47cf-d5f7-c2677b5fc289"
      },
      "execution_count": 18,
      "outputs": [
        {
          "name": "stdout",
          "output_type": "stream",
          "text": [
            "length =10\n",
            "breadth =9\n"
          ]
        }
      ]
    },
    {
      "cell_type": "code",
      "source": [
        "#area and circumference of circle\n",
        "r = int(input(\"Enter radius\"))\n",
        "circum = 4*3.14*r\n",
        "area = 3.14*r*r\n",
        "print(circum)\n",
        "print(area)"
      ],
      "metadata": {
        "colab": {
          "base_uri": "https://localhost:8080/"
        },
        "id": "wJAuX-njO2O6",
        "outputId": "9fc596f4-ad9e-4c82-c7d6-cdd50bd557f2"
      },
      "execution_count": 16,
      "outputs": [
        {
          "output_type": "stream",
          "name": "stdout",
          "text": [
            "Enter radius5\n",
            "62.800000000000004\n",
            "78.5\n"
          ]
        }
      ]
    },
    {
      "cell_type": "code",
      "source": [
        ""
      ],
      "metadata": {
        "id": "_EEVn2WNQzSk"
      },
      "execution_count": null,
      "outputs": []
    }
  ]
}